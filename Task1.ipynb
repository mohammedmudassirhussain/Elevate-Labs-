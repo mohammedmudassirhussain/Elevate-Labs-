{
  "nbformat": 4,
  "nbformat_minor": 0,
  "metadata": {
    "colab": {
      "provenance": [],
      "toc_visible": true,
      "authorship_tag": "ABX9TyNpRJiE29LrTsYCCOAUN+RU"
    },
    "kernelspec": {
      "name": "python3",
      "display_name": "Python 3"
    },
    "language_info": {
      "name": "python"
    }
  },
  "cells": [
    {
      "cell_type": "markdown",
      "source": [],
      "metadata": {
        "id": "vP-KFJZMpByB"
      }
    },
    {
      "cell_type": "markdown",
      "source": [
        " 1. Load dataset\n",
        ""
      ],
      "metadata": {
        "id": "GhTjdT0BpDI_"
      }
    },
    {
      "cell_type": "code",
      "source": [
        "import pandas as pd\n",
        "import numpy as np\n",
        "import os\n",
        "dataset_path = \"netflix_titles.csv\"\n",
        "df = pd.read_csv(dataset_path)\n",
        "\n",
        "print(\"Original Shape:\", df.shape)\n",
        "print(\"Memory usage: {:.2f} MB\".format(df.memory_usage(deep=True).sum() / 1024**2))\n",
        "print(df.head())\n",
        "\n"
      ],
      "metadata": {
        "id": "XuQ9CCHdS_eP",
        "colab": {
          "base_uri": "https://localhost:8080/"
        },
        "outputId": "bd387a6a-f221-476b-d7ed-d0137ad32ca7",
        "collapsed": true
      },
      "execution_count": 7,
      "outputs": [
        {
          "output_type": "stream",
          "name": "stdout",
          "text": [
            "Original Shape: (8807, 12)\n",
            "Memory usage: 7.79 MB\n",
            "  show_id     type                  title         director  \\\n",
            "0      s1    Movie   Dick Johnson Is Dead  Kirsten Johnson   \n",
            "1      s2  TV Show          Blood & Water              NaN   \n",
            "2      s3  TV Show              Ganglands  Julien Leclercq   \n",
            "3      s4  TV Show  Jailbirds New Orleans              NaN   \n",
            "4      s5  TV Show           Kota Factory              NaN   \n",
            "\n",
            "                                                cast        country  \\\n",
            "0                                                NaN  United States   \n",
            "1  Ama Qamata, Khosi Ngema, Gail Mabalane, Thaban...   South Africa   \n",
            "2  Sami Bouajila, Tracy Gotoas, Samuel Jouy, Nabi...            NaN   \n",
            "3                                                NaN            NaN   \n",
            "4  Mayur More, Jitendra Kumar, Ranjan Raj, Alam K...          India   \n",
            "\n",
            "           date_added  release_year rating   duration  \\\n",
            "0  September 25, 2021          2020  PG-13     90 min   \n",
            "1  September 24, 2021          2021  TV-MA  2 Seasons   \n",
            "2  September 24, 2021          2021  TV-MA   1 Season   \n",
            "3  September 24, 2021          2021  TV-MA   1 Season   \n",
            "4  September 24, 2021          2021  TV-MA  2 Seasons   \n",
            "\n",
            "                                           listed_in  \\\n",
            "0                                      Documentaries   \n",
            "1    International TV Shows, TV Dramas, TV Mysteries   \n",
            "2  Crime TV Shows, International TV Shows, TV Act...   \n",
            "3                             Docuseries, Reality TV   \n",
            "4  International TV Shows, Romantic TV Shows, TV ...   \n",
            "\n",
            "                                         description  \n",
            "0  As her father nears the end of his life, filmm...  \n",
            "1  After crossing paths at a party, a Cape Town t...  \n",
            "2  To protect his family from a powerful drug lor...  \n",
            "3  Feuds, flirtations and toilet talk go down amo...  \n",
            "4  In a city of coaching centers known to train I...  \n"
          ]
        }
      ]
    },
    {
      "cell_type": "markdown",
      "source": [
        "2. Assess missing and duplicates"
      ],
      "metadata": {
        "id": "UMz4_teQpSCr"
      }
    },
    {
      "cell_type": "code",
      "source": [
        "\n",
        "missing_df = df.isnull().sum().reset_index()\n",
        "missing_df.columns = [\"column\", \"missing_count\"]\n",
        "missing_df[\"missing_percent\"] = (missing_df[\"missing_count\"] / len(df)) * 100\n",
        "\n",
        "print(\"\\nMissing values before cleaning:\\n\", missing_df)\n",
        "print(\"\\nDuplicate rows:\", df.duplicated().sum())\n"
      ],
      "metadata": {
        "colab": {
          "base_uri": "https://localhost:8080/"
        },
        "id": "XXDWNynMpOjV",
        "outputId": "58b62b99-74bb-4fdb-9978-aed35e96f0de"
      },
      "execution_count": 8,
      "outputs": [
        {
          "output_type": "stream",
          "name": "stdout",
          "text": [
            "\n",
            "Missing values before cleaning:\n",
            "           column  missing_count  missing_percent\n",
            "0        show_id              0         0.000000\n",
            "1           type              0         0.000000\n",
            "2          title              0         0.000000\n",
            "3       director           2634        29.908028\n",
            "4           cast            825         9.367549\n",
            "5        country            831         9.435676\n",
            "6     date_added             10         0.113546\n",
            "7   release_year              0         0.000000\n",
            "8         rating              4         0.045418\n",
            "9       duration              3         0.034064\n",
            "10     listed_in              0         0.000000\n",
            "11   description              0         0.000000\n",
            "\n",
            "Duplicate rows: 0\n"
          ]
        }
      ]
    },
    {
      "cell_type": "markdown",
      "source": [
        " 3. Cleaning process"
      ],
      "metadata": {
        "id": "Ye_sDAaEpbCA"
      }
    },
    {
      "cell_type": "code",
      "source": [
        "df_cleaned = df.copy()\n",
        "\n",
        "# --- Handle missing values\n",
        "critical_cols = ['show_id', 'type', 'title']\n",
        "df_cleaned.dropna(subset=critical_cols, inplace=True)   # drop rows missing critical IDs\n",
        "fill_cols = ['director', 'cast', 'country', 'listed_in', 'description']\n",
        "for col in fill_cols:\n",
        "    df_cleaned[col] = df_cleaned[col].fillna(\"Unknown\")\n",
        "\n",
        "if \"rating\" in df_cleaned.columns:\n",
        "    df_cleaned[\"rating\"] = df_cleaned[\"rating\"].fillna(df_cleaned[\"rating\"].mode()[0])\n",
        "\n",
        "# --- Remove duplicates\n",
        "df_cleaned.drop_duplicates(inplace=True)\n",
        "\n",
        "# --- Standardize text\n",
        "df_cleaned[\"type\"] = df_cleaned[\"type\"].str.strip().str.title()\n",
        "df_cleaned[\"type\"] = df_cleaned[\"type\"].replace({\"Tv Show\": \"TV Show\"})\n",
        "\n",
        "df_cleaned[\"country\"] = df_cleaned[\"country\"].str.strip()\n",
        "df_cleaned[\"country\"] = df_cleaned[\"country\"].apply(lambda x: x.split(\",\")[0] if isinstance(x, str) else x)\n",
        "country_map = {\"USA\": \"United States\", \"UK\": \"United Kingdom\", \"South Korea\": \"Korea\"}\n",
        "df_cleaned[\"country\"] = df_cleaned[\"country\"].replace(country_map)\n",
        "\n",
        "df_cleaned[\"rating\"] = df_cleaned[\"rating\"].str.upper().str.strip()\n",
        "\n",
        "# --- Standardize dates\n",
        "df_cleaned[\"date_added\"] = pd.to_datetime(df_cleaned[\"date_added\"], errors=\"coerce\")\n",
        "\n",
        "# --- Validate numeric columns\n",
        "df_cleaned[\"release_year\"] = pd.to_numeric(df_cleaned[\"release_year\"], errors=\"coerce\")\n",
        "print(\"\\nRelease year range:\", df_cleaned[\"release_year\"].min(), \"→\", df_cleaned[\"release_year\"].max())\n",
        "\n",
        "# --- Clean column names\n",
        "df_cleaned.columns = (\n",
        "    df_cleaned.columns.str.lower()\n",
        "    .str.strip()\n",
        "    .str.replace(\" \", \"_\")\n",
        "    .str.replace(\"-\", \"_\")\n",
        ")\n"
      ],
      "metadata": {
        "colab": {
          "base_uri": "https://localhost:8080/"
        },
        "id": "b6klGfJspaf2",
        "outputId": "9eb64515-731a-41e5-ebfc-82f1b0781621"
      },
      "execution_count": 9,
      "outputs": [
        {
          "output_type": "stream",
          "name": "stdout",
          "text": [
            "\n",
            "Release year range: 1925 → 2021\n"
          ]
        }
      ]
    },
    {
      "cell_type": "markdown",
      "source": [
        "4. Final validation"
      ],
      "metadata": {
        "id": "YCvMtsjcpln5"
      }
    },
    {
      "cell_type": "code",
      "source": [
        "print(\"\\nFinal Shape:\", df_cleaned.shape)\n",
        "print(\"Remaining missing values:\\n\", df_cleaned.isnull().sum())"
      ],
      "metadata": {
        "colab": {
          "base_uri": "https://localhost:8080/"
        },
        "id": "pVycE1L6plFu",
        "outputId": "2bcda85b-e477-453e-bbf4-3244ae6a8d3e"
      },
      "execution_count": 10,
      "outputs": [
        {
          "output_type": "stream",
          "name": "stdout",
          "text": [
            "\n",
            "Final Shape: (8807, 12)\n",
            "Remaining missing values:\n",
            " show_id          0\n",
            "type             0\n",
            "title            0\n",
            "director         0\n",
            "cast             0\n",
            "country          0\n",
            "date_added      98\n",
            "release_year     0\n",
            "rating           0\n",
            "duration         3\n",
            "listed_in        0\n",
            "description      0\n",
            "dtype: int64\n"
          ]
        }
      ]
    },
    {
      "cell_type": "markdown",
      "source": [
        "5. Save cleaned data & report"
      ],
      "metadata": {
        "id": "RGjm5ylxpyuf"
      }
    },
    {
      "cell_type": "code",
      "source": [
        "output_path = \"netflix_titles_cleaned.csv\"\n",
        "report_path = \"netflix_data_cleaning_report.txt\"\n",
        "\n",
        "df_cleaned.to_csv(output_path, index=False)\n",
        "\n",
        "with open(report_path, \"w\") as f:\n",
        "    f.write(\"Netflix Data Cleaning Report\\n\")\n",
        "    f.write(\"=\"*40 + \"\\n\")\n",
        "    f.write(f\"Original shape: {df.shape}\\n\")\n",
        "    f.write(f\"Final shape: {df_cleaned.shape}\\n\")\n",
        "    f.write(f\"Total missing before: {missing_df['missing_count'].sum()}\\n\")\n",
        "    f.write(f\"Total missing after: {df_cleaned.isnull().sum().sum()}\\n\")\n",
        "    f.write(f\"Duplicates removed: {df.duplicated().sum()}\\n\")\n",
        "    f.write(f\"Release year range: {df_cleaned['release_year'].min()} → {df_cleaned['release_year'].max()}\\n\")\n",
        "    f.write(\"Rating mode used to fill nulls: \" + df_cleaned[\"rating\"].mode()[0] + \"\\n\")\n",
        "\n",
        "print(f\"\\nCleaned dataset saved as: {output_path}\")\n",
        "print(f\"Cleaning report saved as: {report_path}\")"
      ],
      "metadata": {
        "colab": {
          "base_uri": "https://localhost:8080/"
        },
        "id": "NWOnIXvdpyYQ",
        "outputId": "d1af3aa5-66a1-41c6-a761-0ab319bc7273"
      },
      "execution_count": 11,
      "outputs": [
        {
          "output_type": "stream",
          "name": "stdout",
          "text": [
            "\n",
            "Cleaned dataset saved as: netflix_titles_cleaned.csv\n",
            "Cleaning report saved as: netflix_data_cleaning_report.txt\n"
          ]
        }
      ]
    },
    {
      "cell_type": "code",
      "source": [],
      "metadata": {
        "id": "cYCXthcvqH5b"
      },
      "execution_count": null,
      "outputs": []
    }
  ]
}